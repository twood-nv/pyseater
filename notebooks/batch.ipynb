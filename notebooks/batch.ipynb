{
 "cells": [
  {
   "cell_type": "code",
   "execution_count": null,
   "id": "43749f9e-9866-445e-a5f9-17c4d03d34d5",
   "metadata": {},
   "outputs": [
    {
     "name": "stdout",
     "output_type": "stream",
     "text": [
      "Applying rules:\n",
      "\tadjacent: gender = False\n",
      "\tadjacent: language = False\n",
      "\tadjacent: game = False\n",
      "Target fitness set to 100.0%\n",
      "solved,iterations,throughput,exec_time\n"
     ]
    }
   ],
   "source": [
    "import pyseater as ps\n",
    "args = ps.Parameters()\n",
    "args.batch_size = 3\n",
    "myseater = ps.Pyseater(args.n_rows, args.n_cols)\n",
    "\n",
    "ps.add_table(myseater, 0, 2, ps.Table(2, 2, ps.Divide.HORIZONTAL))\n",
    "ps.add_table(myseater, 4, 2, ps.Table(2, 2, ps.Divide.VERTICAL))\n",
    "ps.add_table(myseater, 8, 6, ps.Table(2, 2, ps.Divide.HORIZONTAL))\n",
    "ps.add_table(myseater, 4, 6, ps.Table(2, 3, ps.Divide.VERTICAL))\n",
    "ps.add_table(myseater, 0, 6, ps.Table(2, 2, ps.Divide.HORIZONTAL))\n",
    "\n",
    "myseater.adj_rules.append(ps.Rule(\"gender\", False))\n",
    "myseater.adj_rules.append(ps.Rule(\"language\", False))\n",
    "myseater.adj_rules.append(ps.Rule(\"game\", False))\n",
    "\n",
    "if(args.log_level > 0) : print(\"Applying rules:\")\n",
    "for adj_rule in myseater.adj_rules :\n",
    "    if(args.log_level > 0) : print(\"\\tadjacent: \" + str(adj_rule.attribute) + \" = \" + str(adj_rule.boolean))\n",
    "for ops_rule in myseater.ops_rules :\n",
    "    if(args.log_level > 0) : print(\"\\topposite:\" + str(ops_rule.attribute) + \" = \" + str(ops_rule.boolean))\n",
    "\n",
    "if args.seed :\n",
    "    if(args.log_level > 0) : print(\"Seed will be set to \" + str(args.seed))\n",
    "    rng.seed(args.seed)\n",
    "\n",
    "if args.target_fitness :\n",
    "    if(args.log_level > 0) : print(\"Target fitness set to \" + str(args.target_fitness) + \"%\")\n",
    "args.target_fitness = (args.target_fitness / 100) * (myseater.n_places * (len(myseater.adj_rules) + len(myseater.ops_rules)))\n",
    "\n",
    "if args.batch_size != 0 :\n",
    "    args.display_level = 0\n",
    "    args.log_level = 0\n",
    "\n",
    "print(\"solved,iterations,throughput,exec_time\")\n",
    "for _ in range(0, args.batch_size) :\n",
    "    ps.do_random_assignment(myseater, args)\n",
    "    myseater.solve(args)"
   ]
  },
  {
   "cell_type": "code",
   "execution_count": null,
   "id": "95ac7a2a-6af7-4786-846b-1fe18e91a3f2",
   "metadata": {},
   "outputs": [],
   "source": []
  }
 ],
 "metadata": {
  "kernelspec": {
   "display_name": "Python 3 (ipykernel)",
   "language": "python",
   "name": "python3"
  },
  "language_info": {
   "codemirror_mode": {
    "name": "ipython",
    "version": 3
   },
   "file_extension": ".py",
   "mimetype": "text/x-python",
   "name": "python",
   "nbconvert_exporter": "python",
   "pygments_lexer": "ipython3",
   "version": "3.10.12"
  }
 },
 "nbformat": 4,
 "nbformat_minor": 5
}
