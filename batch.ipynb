{
 "cells": [
  {
   "cell_type": "code",
   "execution_count": 2,
   "id": "43749f9e-9866-445e-a5f9-17c4d03d34d5",
   "metadata": {},
   "outputs": [
    {
     "name": "stdout",
     "output_type": "stream",
     "text": [
      "Applying rules:\n",
      "\tadjacent: gender = False\n",
      "\tadjacent: language = False\n",
      "\tadjacent: game = False\n",
      "Target fitness set to 100.0%\n",
      "solved,iterations,throughput,exec_time\n",
      "True,917461,19528.79,46.97993016242981\n",
      "True,49661,19940.69,2.4904351234436035\n",
      "True,75741,19343.42,3.915595769882202\n"
     ]
    }
   ],
   "source": [
    "import pyseater as ps\n",
    "params = ps.Parameters()\n",
    "params.batch_size = 3\n",
    "seater = ps.Pyseater(params.n_rows, params.n_cols)\n",
    "\n",
    "ps.add_table(seater, 0, 2, ps.Table(2, 2, ps.Divide.HORIZONTAL))\n",
    "ps.add_table(seater, 4, 2, ps.Table(2, 2, ps.Divide.VERTICAL))\n",
    "ps.add_table(seater, 8, 6, ps.Table(2, 2, ps.Divide.HORIZONTAL))\n",
    "ps.add_table(seater, 4, 6, ps.Table(2, 3, ps.Divide.VERTICAL))\n",
    "ps.add_table(seater, 0, 6, ps.Table(2, 2, ps.Divide.HORIZONTAL))\n",
    "\n",
    "seater.adj_rules.append(ps.Rule(\"gender\", False))\n",
    "seater.adj_rules.append(ps.Rule(\"language\", False))\n",
    "seater.adj_rules.append(ps.Rule(\"game\", False))\n",
    "\n",
    "if(params.log_level > 0) : print(\"Applying rules:\")\n",
    "for adj_rule in seater.adj_rules :\n",
    "    if(params.log_level > 0) : print(\"\\tadjacent: \" + str(adj_rule.attribute) + \" = \" + str(adj_rule.boolean))\n",
    "for ops_rule in seater.ops_rules :\n",
    "    if(params.log_level > 0) : print(\"\\topposite:\" + str(ops_rule.attribute) + \" = \" + str(ops_rule.boolean))\n",
    "\n",
    "if params.seed :\n",
    "    if(params.log_level > 0) : print(\"Seed will be set to \" + str(params.seed))\n",
    "    rng.seed(args.seed)\n",
    "\n",
    "if params.target_fitness :\n",
    "    if(params.log_level > 0) : print(\"Target fitness set to \" + str(params.target_fitness) + \"%\")\n",
    "params.target_fitness = (params.target_fitness / 100) * (seater.n_places * (len(seater.adj_rules) + len(seater.ops_rules)))\n",
    "\n",
    "if params.batch_size != 0 :\n",
    "    params.display_level = 0\n",
    "    params.log_level = 0\n",
    "\n",
    "print(\"solved,iterations,throughput,exec_time\")\n",
    "for _ in range(0, params.batch_size) :\n",
    "    ps.do_random_assignment(seater, params)\n",
    "    seater.solve(params)"
   ]
  },
  {
   "cell_type": "code",
   "execution_count": null,
   "id": "95ac7a2a-6af7-4786-846b-1fe18e91a3f2",
   "metadata": {},
   "outputs": [],
   "source": []
  }
 ],
 "metadata": {
  "kernelspec": {
   "display_name": "Python 3 (ipykernel)",
   "language": "python",
   "name": "python3"
  },
  "language_info": {
   "codemirror_mode": {
    "name": "ipython",
    "version": 3
   },
   "file_extension": ".py",
   "mimetype": "text/x-python",
   "name": "python",
   "nbconvert_exporter": "python",
   "pygments_lexer": "ipython3",
   "version": "3.10.12"
  }
 },
 "nbformat": 4,
 "nbformat_minor": 5
}
