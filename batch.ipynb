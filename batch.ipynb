{
 "cells": [
  {
   "cell_type": "code",
   "execution_count": 1,
   "id": "43749f9e-9866-445e-a5f9-17c4d03d34d5",
   "metadata": {},
   "outputs": [
    {
     "name": "stdout",
     "output_type": "stream",
     "text": [
      "solved,iterations,throughput,exec_time\n",
      "True,497,12588.13,0.03948163986206055\n",
      "True,1412,13475.09,0.10478591918945312\n",
      "True,299,13903.05,0.021506071090698242\n"
     ]
    }
   ],
   "source": [
    "import pyseater as ps\n",
    "params = ps.Parameters()\n",
    "params.batch_size = 3\n",
    "seater = ps.Pyseater(params.n_rows, params.n_cols)\n",
    "\n",
    "seater.add_table(0, 2, ps.Table(2, 2, ps.Divide.HORIZONTAL))\n",
    "seater.add_table(4, 2, ps.Table(2, 2, ps.Divide.VERTICAL))\n",
    "seater.add_table(8, 6, ps.Table(2, 2, ps.Divide.HORIZONTAL))\n",
    "seater.add_table(4, 6, ps.Table(2, 3, ps.Divide.VERTICAL))\n",
    "seater.add_table(0, 6, ps.Table(2, 2, ps.Divide.HORIZONTAL))\n",
    "\n",
    "seater.adj_rules.append(ps.Rule(\"gender\", False))\n",
    "seater.adj_rules.append(ps.Rule(\"language\", False))\n",
    "seater.adj_rules.append(ps.Rule(\"game\", False))\n",
    "\n",
    "seater.ops_rules.append(ps.Rule(\"gender\", False))\n",
    "seater.ops_rules.append(ps.Rule(\"language\", False))\n",
    "seater.ops_rules.append(ps.Rule(\"game\", False))\n",
    "\n",
    "ps.rng.seed(42)            # Fixed seed for repeatable experiments\n",
    "params.display_level = 0.  # Don't render the floorplans\n",
    "params.log_level = 0       # No logging, only show config and reporting\n",
    "\n",
    "params.migration_interval = 1\n",
    "params.target_fitness = 90\n",
    "\n",
    "print(\"solved,iterations,throughput,exec_time\")\n",
    "for _ in range(0, params.batch_size) :\n",
    "    seater.do_random_assignment(params)\n",
    "    seater.solve(params)\n",
    "    # ps.draw_floorplan(seater, params)"
   ]
  },
  {
   "cell_type": "markdown",
   "id": "679cd3df-3794-4443-8c04-67d3b30dd8c6",
   "metadata": {},
   "source": [
    "Expected:\n",
    "\n",
    "solved,iterations,throughput,exec_time<br>\n",
    "True,2562,12529.93,0.20447039604187012<br>\n",
    "True,493,12436.87,0.039640188217163086<br>\n",
    "True,1636,12929.8,0.12652945518493652<br>"
   ]
  },
  {
   "cell_type": "code",
   "execution_count": null,
   "id": "fcbab4f5-c23c-4363-8a6b-eabe44a37281",
   "metadata": {},
   "outputs": [],
   "source": []
  },
  {
   "cell_type": "code",
   "execution_count": null,
   "id": "400b6383-c3b4-4a02-853e-26aeb3e065a8",
   "metadata": {},
   "outputs": [],
   "source": []
  }
 ],
 "metadata": {
  "kernelspec": {
   "display_name": "Python 3 (ipykernel)",
   "language": "python",
   "name": "python3"
  },
  "language_info": {
   "codemirror_mode": {
    "name": "ipython",
    "version": 3
   },
   "file_extension": ".py",
   "mimetype": "text/x-python",
   "name": "python",
   "nbconvert_exporter": "python",
   "pygments_lexer": "ipython3",
   "version": "3.10.12"
  }
 },
 "nbformat": 4,
 "nbformat_minor": 5
}
